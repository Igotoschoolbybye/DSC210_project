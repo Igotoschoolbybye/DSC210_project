{
 "cells": [
  {
   "cell_type": "code",
   "execution_count": 5,
   "id": "bc59041b",
   "metadata": {},
   "outputs": [
    {
     "name": "stdout",
     "output_type": "stream",
     "text": [
      "Number of observations=  1000000\n",
      "2min 26s ± 6.68 s per loop (mean ± std. dev. of 7 runs, 1 loop each)\n"
     ]
    }
   ],
   "source": [
    "%matplotlib inline\n",
    "import warnings\n",
    "warnings.filterwarnings('ignore')\n",
    "import numpy as np\n",
    "import pandas as pd\n",
    "import statsmodels.api as sm\n",
    "from timeit import timeit\n",
    "from numba import double\n",
    "from joblib import Parallel, delayed\n",
    "\n",
    "reps, beta, n_array = 1000, [-.5,.5,10], [10, 100, 1000, 10000, 100000, 1000000]\n",
    "\n",
    "def python_boot_la(arg_reps,arg_row_id,arg_n,arg_X,arg_Y):\n",
    "    store_beta = np.zeros((reps,X.shape[1]))\n",
    "    for r in range(arg_reps):\n",
    "        this_sample = np.random.choice(arg_row_id, size=arg_n, replace=True) # gives sampled row numbers\n",
    "        # Define data for this replicate:    \n",
    "        X_r = arg_X[this_sample,:]\n",
    "        Y_r = arg_Y[this_sample]\n",
    "        # Estimate model \n",
    "        store_beta[r,:] = (np.linalg.inv(np.dot(X_r.T,X_r)).dot(np.dot(X_r.T,Y_r))).T\n",
    "    return store_beta\n",
    "\n",
    "for n in [1000000]:\n",
    "    row_id = range(0,n)\n",
    "    X1 = np.random.normal(10,4,(n,1))\n",
    "    X2 = np.random.normal(10,4,(n,1))\n",
    "    X=np.append(X1,X2,1)\n",
    "    X = np.append(X,np.tile(1,(n,1)),1)\n",
    "    error = np.random.randn(n,1)\n",
    "    Y = np.dot(X,beta).reshape((n,1)) + error\n",
    "    print(\"Number of observations= \",n)\n",
    "    %timeit python_boot_la(reps,row_id,n,X,Y)\n"
   ]
  },
  {
   "cell_type": "code",
   "execution_count": null,
   "id": "f1f7a41e",
   "metadata": {},
   "outputs": [],
   "source": []
  }
 ],
 "metadata": {
  "kernelspec": {
   "display_name": "Python 3 (ipykernel)",
   "language": "python",
   "name": "python3"
  },
  "language_info": {
   "codemirror_mode": {
    "name": "ipython",
    "version": 3
   },
   "file_extension": ".py",
   "mimetype": "text/x-python",
   "name": "python",
   "nbconvert_exporter": "python",
   "pygments_lexer": "ipython3",
   "version": "3.10.9"
  }
 },
 "nbformat": 4,
 "nbformat_minor": 5
}
