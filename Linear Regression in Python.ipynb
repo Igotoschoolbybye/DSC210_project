{
 "cells": [
  {
   "cell_type": "code",
   "execution_count": 11,
   "id": "24ed455b",
   "metadata": {},
   "outputs": [],
   "source": [
    "%matplotlib inline\n",
    "import warnings\n",
    "warnings.filterwarnings('ignore')\n",
    "import numpy as np\n",
    "import pandas as pd\n",
    "import statsmodels.api as sm\n",
    "from timeit import timeit\n",
    "from numba import double\n",
    "from numba import jit\n",
    "from joblib import Parallel, delayed\n"
   ]
  },
  {
   "cell_type": "code",
   "execution_count": 12,
   "id": "87644dde",
   "metadata": {},
   "outputs": [],
   "source": [
    "reps, beta, n_array = 1000, [2,3,4], [10, 100, 1000, 10000, 100000, 10000000]"
   ]
  },
  {
   "cell_type": "code",
   "execution_count": 13,
   "id": "a4f54027",
   "metadata": {},
   "outputs": [],
   "source": [
    "def python_boot(arg_reps,arg_row_id,arg_n,arg_X,arg_Y):\n",
    "    store_beta = np.zeros((reps,X.shape[1]))\n",
    "    for r in range(arg_reps):\n",
    "        this_sample = np.random.choice(arg_row_id, size=arg_n, replace=True) # gives sampled row numbers\n",
    "        # Define data for this replicate:    \n",
    "        X_r = arg_X[this_sample,:]\n",
    "        Y_r = arg_Y[this_sample]\n",
    "        # Estimate model \n",
    "        store_beta[r,:] = sm.regression.linear_model.OLS(Y_r,X_r).fit(disp=0).params\n",
    "    return store_beta\n"
   ]
  },
  {
   "cell_type": "code",
   "execution_count": 14,
   "id": "62a201a6",
   "metadata": {},
   "outputs": [],
   "source": [
    "@jit(nogil=True)\n",
    "def python_boot_numba(arg_reps,arg_row_id,arg_n,arg_X,arg_Y):\n",
    "    store_beta = np.zeros((1000,3))\n",
    "    for r in range(arg_reps):\n",
    "        this_sample = np.random.choice(arg_row_id, size=arg_n, replace=True) # gives sampled row numbers\n",
    "        # Define data for this replicate:    \n",
    "        X_r = arg_X[this_sample,:]\n",
    "        Y_r = arg_Y[this_sample]\n",
    "        # Estimate model \n",
    "        store_beta[r,:] = sm.regression.linear_model.OLS(Y_r,X_r).fit(disp=0).params\n",
    "    return store_beta"
   ]
  },
  {
   "cell_type": "code",
   "execution_count": 15,
   "id": "8399823b",
   "metadata": {
    "scrolled": true
   },
   "outputs": [
    {
     "name": "stdout",
     "output_type": "stream",
     "text": [
      "Number of observations=  10\n",
      "175 ms ± 2.01 ms per loop (mean ± std. dev. of 7 runs, 10 loops each)\n",
      "177 ms ± 3.39 ms per loop (mean ± std. dev. of 7 runs, 1 loop each)\n",
      "Number of observations=  100\n",
      "The slowest run took 4.85 times longer than the fastest. This could mean that an intermediate result is being cached.\n",
      "433 ms ± 284 ms per loop (mean ± std. dev. of 7 runs, 1 loop each)\n",
      "227 ms ± 7.15 ms per loop (mean ± std. dev. of 7 runs, 1 loop each)\n",
      "Number of observations=  1000\n",
      "418 ms ± 22.5 ms per loop (mean ± std. dev. of 7 runs, 1 loop each)\n",
      "432 ms ± 24.6 ms per loop (mean ± std. dev. of 7 runs, 1 loop each)\n",
      "Number of observations=  10000\n"
     ]
    },
    {
     "ename": "KeyboardInterrupt",
     "evalue": "",
     "output_type": "error",
     "traceback": [
      "\u001b[1;31m---------------------------------------------------------------------------\u001b[0m",
      "\u001b[1;31mKeyboardInterrupt\u001b[0m                         Traceback (most recent call last)",
      "Cell \u001b[1;32mIn[15], line 10\u001b[0m\n\u001b[0;32m      8\u001b[0m Y \u001b[38;5;241m=\u001b[39m np\u001b[38;5;241m.\u001b[39mdot(X,beta)\u001b[38;5;241m.\u001b[39mreshape((n,\u001b[38;5;241m1\u001b[39m)) \u001b[38;5;241m+\u001b[39m error\n\u001b[0;32m      9\u001b[0m \u001b[38;5;28mprint\u001b[39m (\u001b[38;5;124m\"\u001b[39m\u001b[38;5;124mNumber of observations= \u001b[39m\u001b[38;5;124m\"\u001b[39m,n)\n\u001b[1;32m---> 10\u001b[0m \u001b[43mget_ipython\u001b[49m\u001b[43m(\u001b[49m\u001b[43m)\u001b[49m\u001b[38;5;241;43m.\u001b[39;49m\u001b[43mrun_line_magic\u001b[49m\u001b[43m(\u001b[49m\u001b[38;5;124;43m'\u001b[39;49m\u001b[38;5;124;43mtimeit\u001b[39;49m\u001b[38;5;124;43m'\u001b[39;49m\u001b[43m,\u001b[49m\u001b[43m \u001b[49m\u001b[38;5;124;43m'\u001b[39;49m\u001b[38;5;124;43mpython_boot(reps,row_id,n,X,Y)\u001b[39;49m\u001b[38;5;124;43m'\u001b[39;49m\u001b[43m)\u001b[49m\n\u001b[0;32m     11\u001b[0m get_ipython()\u001b[38;5;241m.\u001b[39mrun_line_magic(\u001b[38;5;124m'\u001b[39m\u001b[38;5;124mtimeit\u001b[39m\u001b[38;5;124m'\u001b[39m, \u001b[38;5;124m'\u001b[39m\u001b[38;5;124mpython_boot_numba(reps,row_id,n,X,Y)\u001b[39m\u001b[38;5;124m'\u001b[39m)\n",
      "File \u001b[1;32m~\\anaconda3\\lib\\site-packages\\IPython\\core\\interactiveshell.py:2369\u001b[0m, in \u001b[0;36mInteractiveShell.run_line_magic\u001b[1;34m(self, magic_name, line, _stack_depth)\u001b[0m\n\u001b[0;32m   2367\u001b[0m     kwargs[\u001b[38;5;124m'\u001b[39m\u001b[38;5;124mlocal_ns\u001b[39m\u001b[38;5;124m'\u001b[39m] \u001b[38;5;241m=\u001b[39m \u001b[38;5;28mself\u001b[39m\u001b[38;5;241m.\u001b[39mget_local_scope(stack_depth)\n\u001b[0;32m   2368\u001b[0m \u001b[38;5;28;01mwith\u001b[39;00m \u001b[38;5;28mself\u001b[39m\u001b[38;5;241m.\u001b[39mbuiltin_trap:\n\u001b[1;32m-> 2369\u001b[0m     result \u001b[38;5;241m=\u001b[39m fn(\u001b[38;5;241m*\u001b[39margs, \u001b[38;5;241m*\u001b[39m\u001b[38;5;241m*\u001b[39mkwargs)\n\u001b[0;32m   2371\u001b[0m \u001b[38;5;66;03m# The code below prevents the output from being displayed\u001b[39;00m\n\u001b[0;32m   2372\u001b[0m \u001b[38;5;66;03m# when using magics with decodator @output_can_be_silenced\u001b[39;00m\n\u001b[0;32m   2373\u001b[0m \u001b[38;5;66;03m# when the last Python token in the expression is a ';'.\u001b[39;00m\n\u001b[0;32m   2374\u001b[0m \u001b[38;5;28;01mif\u001b[39;00m \u001b[38;5;28mgetattr\u001b[39m(fn, magic\u001b[38;5;241m.\u001b[39mMAGIC_OUTPUT_CAN_BE_SILENCED, \u001b[38;5;28;01mFalse\u001b[39;00m):\n",
      "File \u001b[1;32m~\\anaconda3\\lib\\site-packages\\IPython\\core\\magics\\execution.py:1167\u001b[0m, in \u001b[0;36mExecutionMagics.timeit\u001b[1;34m(self, line, cell, local_ns)\u001b[0m\n\u001b[0;32m   1164\u001b[0m         \u001b[38;5;28;01mif\u001b[39;00m time_number \u001b[38;5;241m>\u001b[39m\u001b[38;5;241m=\u001b[39m \u001b[38;5;241m0.2\u001b[39m:\n\u001b[0;32m   1165\u001b[0m             \u001b[38;5;28;01mbreak\u001b[39;00m\n\u001b[1;32m-> 1167\u001b[0m all_runs \u001b[38;5;241m=\u001b[39m \u001b[43mtimer\u001b[49m\u001b[38;5;241;43m.\u001b[39;49m\u001b[43mrepeat\u001b[49m\u001b[43m(\u001b[49m\u001b[43mrepeat\u001b[49m\u001b[43m,\u001b[49m\u001b[43m \u001b[49m\u001b[43mnumber\u001b[49m\u001b[43m)\u001b[49m\n\u001b[0;32m   1168\u001b[0m best \u001b[38;5;241m=\u001b[39m \u001b[38;5;28mmin\u001b[39m(all_runs) \u001b[38;5;241m/\u001b[39m number\n\u001b[0;32m   1169\u001b[0m worst \u001b[38;5;241m=\u001b[39m \u001b[38;5;28mmax\u001b[39m(all_runs) \u001b[38;5;241m/\u001b[39m number\n",
      "File \u001b[1;32m~\\anaconda3\\lib\\timeit.py:206\u001b[0m, in \u001b[0;36mTimer.repeat\u001b[1;34m(self, repeat, number)\u001b[0m\n\u001b[0;32m    204\u001b[0m r \u001b[38;5;241m=\u001b[39m []\n\u001b[0;32m    205\u001b[0m \u001b[38;5;28;01mfor\u001b[39;00m i \u001b[38;5;129;01min\u001b[39;00m \u001b[38;5;28mrange\u001b[39m(repeat):\n\u001b[1;32m--> 206\u001b[0m     t \u001b[38;5;241m=\u001b[39m \u001b[38;5;28;43mself\u001b[39;49m\u001b[38;5;241;43m.\u001b[39;49m\u001b[43mtimeit\u001b[49m\u001b[43m(\u001b[49m\u001b[43mnumber\u001b[49m\u001b[43m)\u001b[49m\n\u001b[0;32m    207\u001b[0m     r\u001b[38;5;241m.\u001b[39mappend(t)\n\u001b[0;32m    208\u001b[0m \u001b[38;5;28;01mreturn\u001b[39;00m r\n",
      "File \u001b[1;32m~\\anaconda3\\lib\\site-packages\\IPython\\core\\magics\\execution.py:157\u001b[0m, in \u001b[0;36mTimer.timeit\u001b[1;34m(self, number)\u001b[0m\n\u001b[0;32m    155\u001b[0m gc\u001b[38;5;241m.\u001b[39mdisable()\n\u001b[0;32m    156\u001b[0m \u001b[38;5;28;01mtry\u001b[39;00m:\n\u001b[1;32m--> 157\u001b[0m     timing \u001b[38;5;241m=\u001b[39m \u001b[38;5;28;43mself\u001b[39;49m\u001b[38;5;241;43m.\u001b[39;49m\u001b[43minner\u001b[49m\u001b[43m(\u001b[49m\u001b[43mit\u001b[49m\u001b[43m,\u001b[49m\u001b[43m \u001b[49m\u001b[38;5;28;43mself\u001b[39;49m\u001b[38;5;241;43m.\u001b[39;49m\u001b[43mtimer\u001b[49m\u001b[43m)\u001b[49m\n\u001b[0;32m    158\u001b[0m \u001b[38;5;28;01mfinally\u001b[39;00m:\n\u001b[0;32m    159\u001b[0m     \u001b[38;5;28;01mif\u001b[39;00m gcold:\n",
      "File \u001b[1;32m<magic-timeit>:1\u001b[0m, in \u001b[0;36minner\u001b[1;34m(_it, _timer)\u001b[0m\n",
      "Cell \u001b[1;32mIn[13], line 4\u001b[0m, in \u001b[0;36mpython_boot\u001b[1;34m(arg_reps, arg_row_id, arg_n, arg_X, arg_Y)\u001b[0m\n\u001b[0;32m      2\u001b[0m store_beta \u001b[38;5;241m=\u001b[39m np\u001b[38;5;241m.\u001b[39mzeros((reps,X\u001b[38;5;241m.\u001b[39mshape[\u001b[38;5;241m1\u001b[39m]))\n\u001b[0;32m      3\u001b[0m \u001b[38;5;28;01mfor\u001b[39;00m r \u001b[38;5;129;01min\u001b[39;00m \u001b[38;5;28mrange\u001b[39m(arg_reps):\n\u001b[1;32m----> 4\u001b[0m     this_sample \u001b[38;5;241m=\u001b[39m \u001b[43mnp\u001b[49m\u001b[38;5;241;43m.\u001b[39;49m\u001b[43mrandom\u001b[49m\u001b[38;5;241;43m.\u001b[39;49m\u001b[43mchoice\u001b[49m\u001b[43m(\u001b[49m\u001b[43marg_row_id\u001b[49m\u001b[43m,\u001b[49m\u001b[43m \u001b[49m\u001b[43msize\u001b[49m\u001b[38;5;241;43m=\u001b[39;49m\u001b[43marg_n\u001b[49m\u001b[43m,\u001b[49m\u001b[43m \u001b[49m\u001b[43mreplace\u001b[49m\u001b[38;5;241;43m=\u001b[39;49m\u001b[38;5;28;43;01mTrue\u001b[39;49;00m\u001b[43m)\u001b[49m \u001b[38;5;66;03m# gives sampled row numbers\u001b[39;00m\n\u001b[0;32m      5\u001b[0m     \u001b[38;5;66;03m# Define data for this replicate:    \u001b[39;00m\n\u001b[0;32m      6\u001b[0m     X_r \u001b[38;5;241m=\u001b[39m arg_X[this_sample,:]\n",
      "\u001b[1;31mKeyboardInterrupt\u001b[0m: "
     ]
    }
   ],
   "source": [
    "\n",
    "for n in n_array:\n",
    "    row_id = range(0,n)\n",
    "    X1 = np.random.normal(10,4,(n,1))\n",
    "    X2 = np.random.normal(10,4,(n,1))\n",
    "    X=np.append(X1,X2,1)\n",
    "    X = np.append(X,np.tile(1,(n,1)),1)\n",
    "    error = np.random.randn(n,1)\n",
    "    Y = np.dot(X,beta).reshape((n,1)) + error\n",
    "    print (\"Number of observations= \",n)\n",
    "    %timeit python_boot(reps,row_id,n,X,Y)\n",
    "    %timeit python_boot_numba(reps,row_id,n,X,Y)"
   ]
  },
  {
   "cell_type": "markdown",
   "id": "7518d57d",
   "metadata": {},
   "source": [
    "Copy pasted results for future use.\n",
    "\n",
    "\n",
    "Number of observations=  10\n",
    "166 ms ± 381 µs per loop (mean ± std. dev. of 7 runs, 10 loops each)\n",
    "170 ms ± 376 µs per loop (mean ± std. dev. of 7 runs, 10 loops each)\n",
    "Number of observations=  100\n",
    "216 ms ± 5.68 ms per loop (mean ± std. dev. of 7 runs, 1 loop each)\n",
    "219 ms ± 9.46 ms per loop (mean ± std. dev. of 7 runs, 1 loop each)\n",
    "Number of observations=  1000\n",
    "405 ms ± 9.39 ms per loop (mean ± std. dev. of 7 runs, 1 loop each)\n",
    "396 ms ± 11.3 ms per loop (mean ± std. dev. of 7 runs, 1 loop each)\n",
    "Number of observations=  10000\n",
    "2.17 s ± 65.9 ms per loop (mean ± std. dev. of 7 runs, 1 loop each)\n",
    "2.2 s ± 52 ms per loop (mean ± std. dev. of 7 runs, 1 loop each)\n",
    "Number of observations=  100000\n",
    "23.8 s ± 335 ms per loop (mean ± std. dev. of 7 runs, 1 loop each)\n",
    "23.1 s ± 169 ms per loop (mean ± std. dev. of 7 runs, 1 loop each)\n",
    "Number of observations=  1000000\n",
    "4min 40s ± 15.1 s per loop (mean ± std. dev. of 7 runs, 1 loop each)\n",
    "\n",
    "\n",
    "Number of observations=  10\n",
    "44.8 ms ± 1.78 ms per loop (mean ± std. dev. of 7 runs, 10 loops each)\n",
    "Number of observations=  100\n",
    "53.7 ms ± 2 ms per loop (mean ± std. dev. of 7 runs, 10 loops each)\n",
    "Number of observations=  1000\n",
    "155 ms ± 5.54 ms per loop (mean ± std. dev. of 7 runs, 10 loops each)\n",
    "Number of observations=  10000\n",
    "1.22 s ± 52.5 ms per loop (mean ± std. dev. of 7 runs, 1 loop each)\n",
    "Number of observations=  100000\n",
    "14.3 s ± 84.9 ms per loop (mean ± std. dev. of 7 runs, 1 loop each)\n"
   ]
  },
  {
   "cell_type": "markdown",
   "id": "c2c90740",
   "metadata": {},
   "source": [
    "Copy pasted results from matlab for future use.\n",
    "\n",
    "10\t3.03084240000000\n",
    "100\t3.11670380000000\n",
    "1000\t3.32423630000000\n",
    "10000\t4.80083280000000\n",
    "100000\t19.6583377000000\n",
    "1000000\t191.762040900000\n",
    "\n",
    "\n",
    "10\t0.0382322000000000\n",
    "100\t0.0414775000000000\n",
    "1000\t0.0914098000000000\n",
    "10000\t0.658673000000000\n",
    "100000\t8.05412470000000\n",
    "1000000\t124.202653400000"
   ]
  },
  {
   "cell_type": "code",
   "execution_count": null,
   "id": "09fc20e6",
   "metadata": {},
   "outputs": [],
   "source": [
    "matlab_data1=pd.DataFrame([[10,3.03],[100, 3.11], [1000,3.324], [10000, 4.8008], [100000, 19.658], [1000000,191.762]],columns=['n','Matlab Time'])\n",
    "matlab_data2=pd.DataFrame([[10,.038],[100, .0415], [1000,.0914], [10000, .6586], [100000, 8.054], [1000000, 124.2]],columns=['n','Matlab Time Linear Algebra'])\n",
    "python_data1 = pd.DataFrame([[10,0.166],[100, 0.216], [1000,0.405], [10000, 2.17], [100000, 23.8], [1000000,280]],columns=['n','Python Time'])\n",
    "python_data2 = pd.DataFrame([[10,0.170],[100, 0.219], [1000,0.396], [10000, 2.2], [100000, 23.1], [1000000,266]],columns=['n','Python JIT Time'])\n",
    "python_data3 = pd.DataFrame([[10,0.044],[100, 0.053], [1000,0.155], [10000, 1.22], [100000, 14.3], [1000000,211]],columns=['n','Python Time Linear Algebra'])\n",
    "plot_data = pd.concat([matlab_data1, matlab_data2['Matlab Time Linear Algebra'],python_data1['Python Time'],python_data2['Python JIT Time'],python_data3['Python Time Linear Algebra']], axis=1)\n",
    "plot_data = plot_data.set_index('n')\n",
    "print(plot_data)\n",
    "plot_data.plot(kind = \"bar\")\n",
    "\n",
    "plot_data = plot_data.drop([1000000])\n",
    "plot_data.plot(kind = \"bar\")\n",
    "\n",
    "plot_data = plot_data.drop([100000])\n",
    "plot_data.plot(kind = \"bar\")\n",
    "\n",
    "plot_data = plot_data.drop([10000])\n",
    "plot_data.plot(kind = \"bar\")\n",
    "\n"
   ]
  },
  {
   "cell_type": "code",
   "execution_count": null,
   "id": "14f053a5",
   "metadata": {},
   "outputs": [],
   "source": []
  }
 ],
 "metadata": {
  "kernelspec": {
   "display_name": "Python 3 (ipykernel)",
   "language": "python",
   "name": "python3"
  },
  "language_info": {
   "codemirror_mode": {
    "name": "ipython",
    "version": 3
   },
   "file_extension": ".py",
   "mimetype": "text/x-python",
   "name": "python",
   "nbconvert_exporter": "python",
   "pygments_lexer": "ipython3",
   "version": "3.10.9"
  }
 },
 "nbformat": 4,
 "nbformat_minor": 5
}
